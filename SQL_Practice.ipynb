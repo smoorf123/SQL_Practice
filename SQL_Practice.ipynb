{
  "cells": [
    {
      "cell_type": "markdown",
      "metadata": {
        "id": "kq9l5TTbbfX1"
      },
      "source": [
        "# SQL Practice\n",
        "We'll be using sqlite to access a database. Start by downloading the sql lite file and putting it in the same directory as this notebook: https://www.kaggle.com/datasets/kaggle/sf-salaries (hit the 'download' button in the upper right). Check out the description of the data so you know the table / column names.\n",
        "\n",
        "The name of the table we will used is called 'Salaries'\n",
        "\n",
        "This colab notebook serves as a practice and learning point for SQL\n",
        "The following code will use sqlite to create a database connection."
      ]
    },
    {
      "cell_type": "code",
      "execution_count": null,
      "metadata": {
        "id": "5zYLUNERbfX4"
      },
      "outputs": [],
      "source": [
        "import sqlite3\n",
        "import pandas as pd\n",
        "\n",
        "conn = sqlite3.connect(\"database.sqlite\")\n",
        "crsr = conn.cursor()\n"
      ]
    },
    {
      "cell_type": "markdown",
      "source": [
        "Before we proceed, please note that every task **must be completed using a single SQL query**, unless mentioned otherwise or given as prompt.     \n",
        "(e.g. using print statements are fine, but you should not be using **pandas library** to work with the dataset.). You can use Print statement with the single SQL question."
      ],
      "metadata": {
        "id": "a9pamqAqDcg6"
      }
    },
    {
      "cell_type": "markdown",
      "source": [
        "# Section 01: Exploration\n",
        "\n"
      ],
      "metadata": {
        "id": "iE8NP3mG1VkA"
      }
    },
    {
      "cell_type": "markdown",
      "metadata": {
        "id": "qPANFJ79bfYD"
      },
      "source": [
        "Problem 1:\n",
        "\n",
        "\n",
        "Try to create a query that gives you a data frame of the **EmployeeName, JobTitle, and BasePay** from the salaries table.Further limit the table to the year 2012, employees making under 150,000, and sort in descending order by salary."
      ]
    },
    {
      "cell_type": "code",
      "execution_count": null,
      "metadata": {
        "id": "nYeg8usLbfYD"
      },
      "outputs": [],
      "source": [
        "query = ''\n",
        "\n",
        "df = pd.read_sql(query, conn)\n",
        "df.head()"
      ]
    },
    {
      "cell_type": "markdown",
      "metadata": {
        "id": "hKScy_LdbfYD"
      },
      "source": [
        "# Section 02: Aggregation"
      ]
    },
    {
      "cell_type": "markdown",
      "metadata": {
        "id": "_8wLNfynbfYE"
      },
      "source": [
        "Problem 2:\n",
        "\n",
        "Produce and print the head of a dataframe that shows the average pay for each year (only use a single, simple query). Your result should have a column for the year and a column for the average base pay."
      ]
    },
    {
      "cell_type": "code",
      "execution_count": null,
      "metadata": {
        "id": "a1ePt5wXbfYE"
      },
      "outputs": [],
      "source": [
        "query = ''\n",
        "\n",
        "df = pd.read_sql(query, conn)\n",
        "df.head()"
      ]
    },
    {
      "cell_type": "markdown",
      "metadata": {
        "id": "D--viV17bfYE"
      },
      "source": [
        "Problem 3:\n",
        "\n",
        "Create a dataframe with averages of base pay, averages of benefits, and averages of overtime for each job title, as well as a column with the sum of these three values."
      ]
    },
    {
      "cell_type": "code",
      "execution_count": null,
      "metadata": {
        "id": "lU6m6eHbbfYE"
      },
      "outputs": [],
      "source": [
        "query = ''\n",
        "df = pd.read_sql(query, conn)\n",
        "df.head()\n"
      ]
    },
    {
      "cell_type": "markdown",
      "metadata": {
        "id": "m4b4gjXgbfYE"
      },
      "source": [
        " # Section: Table Creation\n",
        "\n",
        "Problem 4: Create own Table\n",
        "\n",
        "Now we'll create our own table in our database. Separate the Salaries table by Year, and add it back to the database. (You may use basic python to complete the task, however, should still use SQL to query the data.)\n"
      ]
    },
    {
      "cell_type": "markdown",
      "source": [
        "To do this, you'll have to learn how to create a table in SQL. You will likely need this function (https://pandas.pydata.org/docs/reference/api/pandas.DataFrame.to_sql.html), which should make the process simple.\n",
        "\n",
        "Here's the basic structure of how you'll want to do this...\n",
        "\n",
        "1. Through some form of loop, collect all the salaries in a given year.\n",
        "2. Write that data to the sql connection using the function linked above. Make sure to give it a unique name!"
      ],
      "metadata": {
        "id": "t6tbHumUhUNc"
      }
    },
    {
      "cell_type": "code",
      "execution_count": null,
      "metadata": {
        "id": "z8F-yyaobfYE"
      },
      "outputs": [],
      "source": [
        "for y in ['2011','2012','2013','2014']:\n",
        "    query = \"\"\n",
        "    df = pd.read_sql(query, conn)\n",
        "    df.to_sql(name='Y'+y, con=conn, if_exists='replace')"
      ]
    },
    {
      "cell_type": "markdown",
      "source": [
        "**do not modify below code** (ONLY FOR DEBUGGING PURPOSE FOR PROBLEM 4)\n",
        "\n",
        "*You can run the code below to check that things work. Your output should be similar to the expected output below... but the names of your new tables do not need to match exactly*."
      ],
      "metadata": {
        "id": "S8PqrDFpgR2y"
      }
    },
    {
      "cell_type": "code",
      "source": [
        "### it is added to check if db has the tables added in above problem 8 ###\n",
        "cursor = conn.cursor()\n",
        "cursor.execute(\"SELECT name FROM sqlite_master WHERE type='table';\")\n",
        "print(cursor.fetchall())\n",
        "\n",
        "## if your above code is correct, in that case, running this cell will create output like following\n",
        "\n",
        "##[('Salaries',), ('2011',), ('test',), ('Y2011',), ('Y2012',), ('Y2013',), ('Y2014',)]"
      ],
      "metadata": {
        "id": "dn-F_bYHgGqX"
      },
      "execution_count": null,
      "outputs": []
    },
    {
      "cell_type": "markdown",
      "metadata": {
        "id": "c2jdjb-2bfYE"
      },
      "source": [
        "# Section: Table Joining\n",
        "\n",
        "Problem 5:\n",
        "\n",
        "We'll move on to a new dataset for the next steps.\n",
        "Download the dataset from here (https://www.kaggle.com/datasets/luizpaulodeoliveira/imdb-project-sql) and load the sqlite file same as before. Start by just selecting everything in the \"movies\" table to see what it looks like."
      ]
    },
    {
      "cell_type": "code",
      "execution_count": null,
      "metadata": {
        "id": "iujQchKVbfYE"
      },
      "outputs": [],
      "source": [
        "conn = sqlite3.connect(\"movies.sqlite\")\n",
        "query = ''\n",
        "\n",
        "df = pd.read_sql(query, conn)\n",
        "df.head()"
      ]
    },
    {
      "cell_type": "markdown",
      "metadata": {
        "id": "7CEheFlFbfYE"
      },
      "source": [
        "Problem 6:\n",
        "\n",
        "Create a dataframe that includes the entire contents of \"movies\" table as well as the director's name.\n",
        "\n",
        "**Hint:** You may want to perform an inner join on the 'directors' table to complete this task. Investigate that table to learn more about this solution. Note that the movies table has a 'director_id' column which may help."
      ]
    },
    {
      "cell_type": "code",
      "execution_count": null,
      "metadata": {
        "id": "QqpzQ2GCbfYE"
      },
      "outputs": [],
      "source": [
        "query = ''\n",
        "df = pd.read_sql(query, conn)\n",
        "\n",
        "print(df.head(5))\n",
        "df.size"
      ]
    },
    {
      "cell_type": "markdown",
      "metadata": {
        "id": "uI8JdgF7bfYF"
      },
      "source": [
        "# Section: Analysis\n",
        "\n",
        "The next few problems will be more involved! You'll need to combine some concepts you've learned. For each cell, show your work.\n",
        "\\\n",
        "Remember, the answers should be in **a single query**.\n",
        "\n",
        "\\\n"
      ]
    },
    {
      "cell_type": "markdown",
      "metadata": {
        "id": "VzurS_SjbfYF"
      },
      "source": [
        "Problem 7:\n",
        "\n",
        "Which directors have the highest overall voting average? - show the top 5 directors' name and their average rating"
      ]
    },
    {
      "cell_type": "code",
      "execution_count": null,
      "metadata": {
        "id": "f2n8u0xwbfYF"
      },
      "outputs": [],
      "source": [
        "query = ''\n",
        "df = pd.read_sql(query, conn)\n",
        "\n",
        "print(df)"
      ]
    },
    {
      "cell_type": "markdown",
      "metadata": {
        "id": "zcnqToc-bfYF"
      },
      "source": [
        "Problem 08:\n",
        "\n",
        "What are the top five directors by how much their average budget is?"
      ]
    },
    {
      "cell_type": "code",
      "execution_count": null,
      "metadata": {
        "id": "CBjeMaxybfYF"
      },
      "outputs": [],
      "source": [
        "query = ''\n",
        "df = pd.read_sql(query, conn)\n",
        "\n",
        "print(df)"
      ]
    }
  ],
  "metadata": {
    "kernelspec": {
      "display_name": "Python 3 (ipykernel)",
      "language": "python",
      "name": "python3"
    },
    "language_info": {
      "codemirror_mode": {
        "name": "ipython",
        "version": 3
      },
      "file_extension": ".py",
      "mimetype": "text/x-python",
      "name": "python",
      "nbconvert_exporter": "python",
      "pygments_lexer": "ipython3",
      "version": "3.9.13"
    },
    "vscode": {
      "interpreter": {
        "hash": "a2e5d560d28a599890fdd7539b19577a9de153f4e292870f76387166d24c392f"
      }
    },
    "colab": {
      "provenance": []
    }
  },
  "nbformat": 4,
  "nbformat_minor": 0
}